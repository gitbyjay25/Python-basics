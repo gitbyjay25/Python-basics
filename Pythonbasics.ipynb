{
  "cells": [
    {
      "cell_type": "markdown",
      "metadata": {
        "id": "PDsVgXt5LS9p"
      },
      "source": [
        "## **Basics**"
      ]
    },
    {
      "cell_type": "code",
      "execution_count": null,
      "metadata": {
        "colab": {
          "base_uri": "https://localhost:8080/"
        },
        "id": "uwNpyHvrSs7J",
        "outputId": "5cb6d8ca-1c9d-41c2-c223-2172683bcc61"
      },
      "outputs": [
        {
          "name": "stdout",
          "output_type": "stream",
          "text": [
            "Hello Everyone\n"
          ]
        }
      ],
      "source": [
        "print(\"Hello Everyone\")"
      ]
    },
    {
      "cell_type": "code",
      "execution_count": 3,
      "metadata": {
        "colab": {
          "base_uri": "https://localhost:8080/"
        },
        "id": "ntmuH3eoTR8P",
        "outputId": "7887d270-2682-4b1b-c7f7-a3b8da1cb4b4"
      },
      "outputs": [
        {
          "output_type": "execute_result",
          "data": {
            "text/plain": [
              "set"
            ]
          },
          "metadata": {},
          "execution_count": 3
        }
      ],
      "source": [
        "type(\"Hey guys its the python basics notebook\")\n",
        "type(153.0)\n",
        "type(153)\n",
        "type({\"hello\",\"hy\",56})"
      ]
    },
    {
      "cell_type": "code",
      "execution_count": null,
      "metadata": {
        "colab": {
          "base_uri": "https://localhost:8080/"
        },
        "id": "X2wWqgqNTym7",
        "outputId": "cbbf586a-e223-49ce-e556-b98d30b83e00"
      },
      "outputs": [
        {
          "data": {
            "text/plain": [
              "1.3333333333333333"
            ]
          },
          "execution_count": 3,
          "metadata": {},
          "output_type": "execute_result"
        }
      ],
      "source": [
        "4/3"
      ]
    },
    {
      "cell_type": "code",
      "execution_count": null,
      "metadata": {
        "colab": {
          "base_uri": "https://localhost:8080/"
        },
        "id": "BeqI1horV5Qw",
        "outputId": "07378af8-3597-456d-814f-8e09904f0c33"
      },
      "outputs": [
        {
          "data": {
            "text/plain": [
              "4"
            ]
          },
          "execution_count": 4,
          "metadata": {},
          "output_type": "execute_result"
        }
      ],
      "source": [
        "4//1"
      ]
    },
    {
      "cell_type": "code",
      "execution_count": null,
      "metadata": {
        "colab": {
          "base_uri": "https://localhost:8080/"
        },
        "id": "st2n0P9oTpPY",
        "outputId": "98416b2f-9c77-4bee-c945-a39250c104ed"
      },
      "outputs": [
        {
          "data": {
            "text/plain": [
              "2"
            ]
          },
          "execution_count": 6,
          "metadata": {},
          "output_type": "execute_result"
        }
      ],
      "source": [
        "5//2\n"
      ]
    },
    {
      "cell_type": "code",
      "execution_count": null,
      "metadata": {
        "colab": {
          "base_uri": "https://localhost:8080/"
        },
        "id": "Gdz4fJBbWCBd",
        "outputId": "233f6a6c-0696-4e83-e8d4-bf0f6eb7aa2e"
      },
      "outputs": [
        {
          "data": {
            "text/plain": [
              "0"
            ]
          },
          "execution_count": 5,
          "metadata": {},
          "output_type": "execute_result"
        }
      ],
      "source": [
        "1//4"
      ]
    },
    {
      "cell_type": "code",
      "execution_count": null,
      "metadata": {
        "colab": {
          "base_uri": "https://localhost:8080/"
        },
        "id": "ADoYMVC2WG0q",
        "outputId": "31cb3200-3489-494f-d3f5-a1b952c8e599"
      },
      "outputs": [
        {
          "data": {
            "text/plain": [
              "8"
            ]
          },
          "execution_count": 6,
          "metadata": {},
          "output_type": "execute_result"
        }
      ],
      "source": [
        "8%9"
      ]
    },
    {
      "cell_type": "code",
      "execution_count": null,
      "metadata": {
        "colab": {
          "base_uri": "https://localhost:8080/"
        },
        "id": "onSiKsUwWWnN",
        "outputId": "d365c8e9-2cc7-4464-fc7b-0814ee227d72"
      },
      "outputs": [
        {
          "data": {
            "text/plain": [
              "25"
            ]
          },
          "execution_count": 7,
          "metadata": {},
          "output_type": "execute_result"
        }
      ],
      "source": [
        "5**3\n",
        "5**2"
      ]
    },
    {
      "cell_type": "code",
      "execution_count": null,
      "metadata": {
        "id": "06A-wUJ4WmFL"
      },
      "outputs": [],
      "source": [
        "y=\"Tree\"\n",
        "y\n",
        "x=\"five\"\n",
        "\n"
      ]
    },
    {
      "cell_type": "code",
      "execution_count": null,
      "metadata": {
        "colab": {
          "base_uri": "https://localhost:8080/",
          "height": 36
        },
        "id": "zhE-Yj7mWvPs",
        "outputId": "6cd821dc-f4a7-4945-e144-31fbfff57025"
      },
      "outputs": [
        {
          "data": {
            "application/vnd.google.colaboratory.intrinsic+json": {
              "type": "string"
            },
            "text/plain": [
              "'hello there are five Tree'"
            ]
          },
          "execution_count": 9,
          "metadata": {},
          "output_type": "execute_result"
        }
      ],
      "source": [
        "\"hello\" +\" there are \"+ x +\" \"+ y"
      ]
    },
    {
      "cell_type": "code",
      "execution_count": null,
      "metadata": {
        "colab": {
          "base_uri": "https://localhost:8080/"
        },
        "id": "Gy6t2K9eXcJg",
        "outputId": "69bb0853-bacd-469a-da22-5709b2605a44"
      },
      "outputs": [
        {
          "name": "stdout",
          "output_type": "stream",
          "text": [
            "False\n"
          ]
        }
      ],
      "source": [
        "print((3<2))\n"
      ]
    },
    {
      "cell_type": "code",
      "execution_count": null,
      "metadata": {
        "colab": {
          "base_uri": "https://localhost:8080/"
        },
        "id": "4BZYNqGWYbkb",
        "outputId": "3f3dee2f-9ed6-4172-e1cc-f60dbd21edb9"
      },
      "outputs": [
        {
          "name": "stdout",
          "output_type": "stream",
          "text": [
            "100\n",
            "11\n"
          ]
        }
      ],
      "source": [
        "\"Hello\"==\"hello\"\n",
        "if (550>80):\n",
        "  print(100)\n",
        "print(11)"
      ]
    },
    {
      "cell_type": "code",
      "execution_count": null,
      "metadata": {
        "colab": {
          "base_uri": "https://localhost:8080/"
        },
        "id": "Tui7benuZ0jO",
        "outputId": "e5a049d1-c7d1-420a-fab2-c2bec28e53a1"
      },
      "outputs": [
        {
          "name": "stdout",
          "output_type": "stream",
          "text": [
            "oouch\n"
          ]
        }
      ],
      "source": [
        "if(\"Help\"==\"help\"):\n",
        "  print(\"wow\")\n",
        "else:\n",
        "  print(\"oouch\")"
      ]
    },
    {
      "cell_type": "code",
      "execution_count": null,
      "metadata": {
        "colab": {
          "base_uri": "https://localhost:8080/"
        },
        "id": "RRVUD__ijl16",
        "outputId": "3d203e97-469b-4302-eab5-aef241d1779c"
      },
      "outputs": [
        {
          "data": {
            "text/plain": [
              "list"
            ]
          },
          "execution_count": 12,
          "metadata": {},
          "output_type": "execute_result"
        }
      ],
      "source": [
        "grocery_list=[\"banana\",\"kg apple\",\"2 kg sugar\"]\n",
        "type(grocery_list)\n"
      ]
    },
    {
      "cell_type": "code",
      "execution_count": null,
      "metadata": {
        "colab": {
          "base_uri": "https://localhost:8080/"
        },
        "id": "hjaW7RHZj-rF",
        "outputId": "a3fe8438-f6c0-46c7-ea8c-63d038b9e49b"
      },
      "outputs": [
        {
          "name": "stdout",
          "output_type": "stream",
          "text": [
            "['banana', 'kg apple', '2 kg sugar', 'milk']\n"
          ]
        }
      ],
      "source": [
        "grocery_list.append(\"milk\")\n",
        "print( grocery_list)\n"
      ]
    },
    {
      "cell_type": "code",
      "execution_count": null,
      "metadata": {
        "colab": {
          "base_uri": "https://localhost:8080/"
        },
        "id": "Vm7y-Sx6kOUw",
        "outputId": "4401d4ca-62b8-4449-bab9-2543a7dfa185"
      },
      "outputs": [
        {
          "name": "stdout",
          "output_type": "stream",
          "text": [
            "['kg apple', '2 kg sugar', 'milk']\n"
          ]
        }
      ],
      "source": [
        "grocery_list.remove(\"banana\")\n",
        "print(grocery_list)"
      ]
    },
    {
      "cell_type": "code",
      "execution_count": null,
      "metadata": {
        "colab": {
          "base_uri": "https://localhost:8080/"
        },
        "id": "mnoCcjZElmGu",
        "outputId": "6f31b26c-396d-48fd-9c6a-b09c3c49663a"
      },
      "outputs": [
        {
          "name": "stdout",
          "output_type": "stream",
          "text": [
            "['kg apple', 'tea seeds', '2 kg sugar', 'milk']\n"
          ]
        }
      ],
      "source": [
        "grocery_list.insert(1,\"tea seeds\")\n",
        "print(grocery_list)\n"
      ]
    },
    {
      "cell_type": "code",
      "execution_count": null,
      "metadata": {
        "colab": {
          "base_uri": "https://localhost:8080/"
        },
        "id": "X0jhyCJXl3UU",
        "outputId": "0c3a56c3-904d-403a-9e36-313fa7fe5e21"
      },
      "outputs": [
        {
          "name": "stdout",
          "output_type": "stream",
          "text": [
            "['2 kg sugar', 'kg apple', 'milk', 'tea seeds']\n"
          ]
        }
      ],
      "source": [
        "grocery_list.sort()\n",
        "print(grocery_list)\n"
      ]
    },
    {
      "cell_type": "code",
      "execution_count": null,
      "metadata": {
        "colab": {
          "base_uri": "https://localhost:8080/"
        },
        "id": "XTbzEhjemCh7",
        "outputId": "8fbeb5af-5a38-4599-a911-43b7d8879380"
      },
      "outputs": [
        {
          "name": "stdout",
          "output_type": "stream",
          "text": [
            "['tea seeds', 'milk', 'kg apple', '2 kg sugar']\n"
          ]
        }
      ],
      "source": [
        "grocery_list.reverse()\n",
        "print(grocery_list)\n"
      ]
    },
    {
      "cell_type": "code",
      "execution_count": null,
      "metadata": {
        "colab": {
          "base_uri": "https://localhost:8080/"
        },
        "id": "3IRJZIG2mZ9a",
        "outputId": "3e7c5dcc-9960-46f5-dbd5-25e3ae3d501d"
      },
      "outputs": [
        {
          "name": "stdout",
          "output_type": "stream",
          "text": [
            "['tea seeds', 'kg apple', '2 kg sugar']\n"
          ]
        }
      ],
      "source": [
        "grocery_list.pop(1)\n",
        "print(grocery_list)"
      ]
    },
    {
      "cell_type": "code",
      "execution_count": null,
      "metadata": {
        "colab": {
          "base_uri": "https://localhost:8080/"
        },
        "id": "A16ukgYbjfJu",
        "outputId": "9f568608-ce76-461b-8c6b-1f002bbd2f42"
      },
      "outputs": [
        {
          "name": "stdout",
          "output_type": "stream",
          "text": [
            "['kg apple', '2 kg sugar']\n"
          ]
        }
      ],
      "source": [
        "grocery_list.remove(\"banana\")\n",
        "print(grocery_list)"
      ]
    },
    {
      "cell_type": "code",
      "execution_count": null,
      "metadata": {
        "colab": {
          "base_uri": "https://localhost:8080/"
        },
        "id": "DPoGKXhOmhjz",
        "outputId": "9f04711b-cdf2-4839-a057-c219822515b3"
      },
      "outputs": [
        {
          "name": "stdout",
          "output_type": "stream",
          "text": [
            "['tea seeds', 'kg apple', '2 kg sugar']\n",
            "3\n",
            "['tea seeds', 'kg apple', '2 kg sugar', 5, 10, 11, 5, 5, 'namkeen']\n"
          ]
        }
      ],
      "source": [
        "grocery_list.count(\"e\")\n",
        "print(grocery_list)\n",
        "grocery_list.extend([5,10,11,5,5,\"namkeen\"])\n",
        "print(grocery_list.count(5))\n",
        "print(grocery_list)"
      ]
    },
    {
      "cell_type": "code",
      "execution_count": null,
      "metadata": {
        "colab": {
          "base_uri": "https://localhost:8080/"
        },
        "id": "298KqiAat2nD",
        "outputId": "cb3a14b2-b75a-49fe-ee2d-ffb33f9053b4"
      },
      "outputs": [
        {
          "data": {
            "text/plain": [
              "['RC', ' ***,* (^_^)']"
            ]
          },
          "execution_count": 21,
          "metadata": {},
          "output_type": "execute_result"
        }
      ],
      "source": [
        "team = \"RCB ***,* (^_^)\"\n",
        "team.split(\",\")\n",
        "team.split(\"B\")"
      ]
    },
    {
      "cell_type": "markdown",
      "metadata": {
        "id": "BxxTpTOhKnU7"
      },
      "source": [
        "## **LOOPS**"
      ]
    },
    {
      "cell_type": "code",
      "execution_count": null,
      "metadata": {
        "colab": {
          "base_uri": "https://localhost:8080/"
        },
        "id": "xKrT1Gw_amxA",
        "outputId": "8b822920-143b-4029-cad0-b0a0c2dcf893"
      },
      "outputs": [
        {
          "name": "stdout",
          "output_type": "stream",
          "text": [
            "HEY THIS IS ME !\n",
            "pooja\n",
            "Jiya\n",
            "nisha\n"
          ]
        }
      ],
      "source": [
        "list=[\"HEY THIS IS ME !\",\"pooja\",\"Jiya\", \"nisha\"]\n",
        "for i in list:\n",
        "  print(i)"
      ]
    },
    {
      "cell_type": "code",
      "execution_count": null,
      "metadata": {
        "colab": {
          "base_uri": "https://localhost:8080/"
        },
        "id": "Hmi3BT6Tbc4O",
        "outputId": "e64dda1e-2bf1-484b-da37-5f38388fda4e"
      },
      "outputs": [
        {
          "name": "stdout",
          "output_type": "stream",
          "text": [
            "1\n",
            "2\n",
            "3\n",
            "4\n",
            "5\n",
            "6\n",
            "7\n",
            "8\n",
            "9\n",
            "10\n"
          ]
        }
      ],
      "source": [
        "#to count no from 1 to 10\n",
        "count=1\n",
        "while count<=10:\n",
        "  print(count)\n",
        "  count+=1\n"
      ]
    },
    {
      "cell_type": "code",
      "execution_count": null,
      "metadata": {
        "colab": {
          "base_uri": "https://localhost:8080/"
        },
        "id": "2CB1mLVKcJko",
        "outputId": "832e98c9-c098-431a-da77-724a9539f61c"
      },
      "outputs": [
        {
          "name": "stdout",
          "output_type": "stream",
          "text": [
            "15\n",
            "14\n",
            "13\n",
            "12\n",
            "11\n",
            "10\n",
            "9\n",
            "8\n",
            "7\n",
            "6\n",
            "5\n",
            "4\n",
            "3\n",
            "2\n",
            "1\n",
            "0\n"
          ]
        }
      ],
      "source": [
        "count=15\n",
        "while count>=0:\n",
        "  print(count)\n",
        "  count-=1\n"
      ]
    },
    {
      "cell_type": "code",
      "execution_count": null,
      "metadata": {
        "colab": {
          "base_uri": "https://localhost:8080/"
        },
        "id": "rQB2_RvWca5z",
        "outputId": "1fbaf00e-4042-48d8-9631-4d9647fb6767"
      },
      "outputs": [
        {
          "name": "stdout",
          "output_type": "stream",
          "text": [
            "18 * 1 = 18\n",
            "18 * 2 = 36\n",
            "18 * 3 = 54\n",
            "18 * 4 = 72\n",
            "18 * 5 = 90\n",
            "18 * 6 = 108\n",
            "18 * 7 = 126\n",
            "18 * 8 = 144\n",
            "18 * 9 = 162\n",
            "18 * 10 = 180\n",
            "1 * 1 = 1\n",
            "1 * 2 = 2\n",
            "1 * 3 = 3\n",
            "1 * 4 = 4\n",
            "1 * 5 = 5\n",
            "1 * 6 = 6\n",
            "1 * 7 = 7\n",
            "1 * 8 = 8\n",
            "1 * 9 = 9\n",
            "1 * 10 = 10\n"
          ]
        }
      ],
      "source": [
        "n=18\n",
        "i=1\n",
        "while(i<=10):\n",
        "  print(n,\"*\",i,\"=\",n*i)\n",
        "  i=i+1\n",
        "for i in range(1,11):\n",
        "  print(1,\"*\",i,\"=\",1*i)\n",
        "  i+=1"
      ]
    },
    {
      "cell_type": "code",
      "execution_count": null,
      "metadata": {
        "colab": {
          "base_uri": "https://localhost:8080/"
        },
        "id": "VeT05fYHeBl2",
        "outputId": "2861fb02-0ed6-4208-c25e-aa3ab60ace89"
      },
      "outputs": [
        {
          "name": "stdout",
          "output_type": "stream",
          "text": [
            "0 HEY THIS IS ME !\n",
            "1 pooja\n",
            "2 Jiya\n",
            "3 nisha\n"
          ]
        }
      ],
      "source": [
        "detail=[\"HEY THIS IS ME !\",\"pooja\",\"Jiya\", \"nisha\"]\n",
        "for i,value in enumerate(detail):#enumerate fn: return the objject with index and value\n",
        "  print(i,value)"
      ]
    },
    {
      "cell_type": "code",
      "execution_count": null,
      "metadata": {
        "colab": {
          "base_uri": "https://localhost:8080/"
        },
        "id": "cXtK9Sr8f3Um",
        "outputId": "5c18f9d4-d576-4cb2-8b0e-590ce0271f1e"
      },
      "outputs": [
        {
          "name": "stdout",
          "output_type": "stream",
          "text": [
            "0 5 Hundread\n",
            "1 2 HUndread \n",
            "2 100\n",
            "3 50\n",
            "4 20\n",
            "5 10\n",
            "6 5\n",
            "7 2\n",
            "8 1\n"
          ]
        }
      ],
      "source": [
        "notes=[\"5 Hundread\",\"2 HUndread \",\"100\",\"50\",\"20\",\"10\",\"5\",\"2\",\"1\"]\n",
        "for i, value in enumerate(notes):\n",
        "  print(i,value)"
      ]
    },
    {
      "cell_type": "code",
      "execution_count": null,
      "metadata": {
        "colab": {
          "base_uri": "https://localhost:8080/"
        },
        "id": "vVq5AGSwkMkK",
        "outputId": "8d1ba9ee-c8d7-4806-a7ec-f6616557dff1"
      },
      "outputs": [
        {
          "name": "stdout",
          "output_type": "stream",
          "text": [
            "enter n 5\n",
            "5 is odd\n"
          ]
        }
      ],
      "source": [
        "#program to check if a number is even or odd\n",
        "n=int(input(\"enter n \"))\n",
        "if n % 2==0:\n",
        "   print(n, \"is even\")\n",
        "\n",
        "else:\n",
        "   print(n,\"is odd\")"
      ]
    },
    {
      "cell_type": "code",
      "execution_count": null,
      "metadata": {
        "colab": {
          "base_uri": "https://localhost:8080/"
        },
        "id": "KtsZzNwIlfaP",
        "outputId": "a03900b3-ae6c-4b38-fefd-009d921ae4a8"
      },
      "outputs": [
        {
          "name": "stdout",
          "output_type": "stream",
          "text": [
            "enter num5\n",
            "odd\n"
          ]
        }
      ],
      "source": [
        "num=int(input(\"enter num\"))\n",
        "print(\"even\" if num%2==0 else \"odd\")"
      ]
    },
    {
      "cell_type": "code",
      "execution_count": null,
      "metadata": {
        "colab": {
          "base_uri": "https://localhost:8080/"
        },
        "id": "p1yXuM14nq0Y",
        "outputId": "94530af3-8985-4ac0-cb0d-17de51697ad2"
      },
      "outputs": [
        {
          "name": "stdout",
          "output_type": "stream",
          "text": [
            "positive\n"
          ]
        }
      ],
      "source": [
        "print(\"positive\" if num>0 else \"negative\" if num<0 else \"zero\")"
      ]
    },
    {
      "cell_type": "code",
      "execution_count": null,
      "metadata": {
        "id": "oCWZrFAZrZAB"
      },
      "outputs": [],
      "source": []
    },
    {
      "cell_type": "code",
      "execution_count": null,
      "metadata": {
        "colab": {
          "base_uri": "https://localhost:8080/"
        },
        "id": "9qoYBaZzoxuU",
        "outputId": "b6e079ff-60bc-41e9-ced1-4351ad434464"
      },
      "outputs": [
        {
          "name": "stdout",
          "output_type": "stream",
          "text": [
            "enter age25\n",
            "eligible\n"
          ]
        }
      ],
      "source": [
        "#program to check if a person is eligible to vote (minimum age 18).\n",
        "age=int(input(\"enter age\"))\n",
        "print(\"eligible\" if age>=18 else\"Not eligible\")"
      ]
    },
    {
      "cell_type": "code",
      "execution_count": null,
      "metadata": {
        "colab": {
          "base_uri": "https://localhost:8080/"
        },
        "id": "YtUD9d0UraSV",
        "outputId": "c8f5dc6a-8072-4151-9ac9-c411cf21c707"
      },
      "outputs": [
        {
          "name": "stdout",
          "output_type": "stream",
          "text": [
            "enter marks58\n",
            "Grade C\n"
          ]
        }
      ],
      "source": [
        "85marks=int(input(\"enter marks\"))\n",
        "print(\"Grade A\"if marks>=90 else \"Grade B\" if marks>=75 else \"Grade C\" if marks>=50 else \"Fail\" )\n"
      ]
    },
    {
      "cell_type": "code",
      "execution_count": null,
      "metadata": {
        "colab": {
          "base_uri": "https://localhost:8080/"
        },
        "id": "5D9tNU9rrdfv",
        "outputId": "cac9254e-1887-4f65-9cc5-cfc333727681"
      },
      "outputs": [
        {
          "name": "stdout",
          "output_type": "stream",
          "text": [
            "enter m78\n",
            "enter n87\n",
            "enter o95\n"
          ]
        },
        {
          "data": {
            "text/plain": [
              "95"
            ]
          },
          "execution_count": 34,
          "metadata": {},
          "output_type": "execute_result"
        }
      ],
      "source": [
        "m=int(input(\"enter m\"))\n",
        "n=int(input(\"enter n\"))\n",
        "o=int(input(\"enter o\"))\n",
        "max(n,m,o)"
      ]
    },
    {
      "cell_type": "code",
      "execution_count": null,
      "metadata": {
        "colab": {
          "base_uri": "https://localhost:8080/"
        },
        "id": "PUSn4Nc5zHII",
        "outputId": "94543df7-90b8-41cf-9ad2-654a5cac75e9"
      },
      "outputs": [
        {
          "name": "stdout",
          "output_type": "stream",
          "text": [
            "enter p, q, r : separated with spaces78 589 85\n",
            "max is  589\n",
            "Grade B\n",
            "Grade A\n",
            "Grade B\n"
          ]
        }
      ],
      "source": [
        "p,q,r=map(int,input(\"enter p, q, r : separated with spaces\" ).split())\n",
        "print(\"max is \",max(p,q,r))\n",
        "for marks in p,q,r:\n",
        "  print(\"Grade A\"if marks>=90 else \"Grade B\" if marks>=75 else \"Grade C\" if marks>=50 else \"Fail\" )\n"
      ]
    },
    {
      "cell_type": "code",
      "execution_count": null,
      "metadata": {
        "colab": {
          "base_uri": "https://localhost:8080/"
        },
        "id": "2XwmSPfJ0EtO",
        "outputId": "c574c105-1cb8-4b12-9ca7-6402819eac38"
      },
      "outputs": [
        {
          "name": "stdout",
          "output_type": "stream",
          "text": [
            "Enter m, n, o separated by spaces: 54 58 52\n",
            "Maximum is 58 by n\n"
          ]
        }
      ],
      "source": [
        "m, n, o = map(int, input(\"Enter m, n, o separated by spaces: \").split())\n",
        "max_value = max((m, \"m\"), (n, \"n\"), (o, \"o\"))  # Pair each value with its variable name\n",
        "print(f\"Maximum is {max_value[0]} by {max_value[1]}\")\n"
      ]
    },
    {
      "cell_type": "code",
      "execution_count": null,
      "metadata": {
        "colab": {
          "base_uri": "https://localhost:8080/"
        },
        "id": "0cfIninJ3I6Y",
        "outputId": "0fcfea2c-58a5-4838-863b-51da330d05c2"
      },
      "outputs": [
        {
          "name": "stdout",
          "output_type": "stream",
          "text": [
            "enter year2597\n",
            "not a leap year\n"
          ]
        }
      ],
      "source": [
        "year=int(input(\"enter year\"))\n",
        "print(\"leap year \"if year%4==0 and year%100!=0 or year%400==0  else\"not a leap year\")"
      ]
    },
    {
      "cell_type": "markdown",
      "metadata": {
        "id": "OHEefGqELKOI"
      },
      "source": [
        "## **Function**"
      ]
    },
    {
      "cell_type": "code",
      "execution_count": null,
      "metadata": {
        "colab": {
          "base_uri": "https://localhost:8080/"
        },
        "id": "11g-mxQWEdB5",
        "outputId": "f0794993-c3eb-4b2a-e982-c917b2ff874d"
      },
      "outputs": [
        {
          "name": "stdout",
          "output_type": "stream",
          "text": [
            "hello\n"
          ]
        }
      ],
      "source": [
        "def fn_name():\n",
        "  print(\"hello\")\n",
        "fn_name()\n",
        "\n"
      ]
    },
    {
      "cell_type": "code",
      "execution_count": null,
      "metadata": {
        "colab": {
          "base_uri": "https://localhost:8080/"
        },
        "id": "h_hwP0Phvnnp",
        "outputId": "ae7eca6d-c209-40c8-a0ac-aa5fdffa6fdb"
      },
      "outputs": [
        {
          "name": "stdout",
          "output_type": "stream",
          "text": [
            "the sum is  155\n",
            "the sum is  100\n"
          ]
        }
      ],
      "source": [
        "def sum(a,b):\n",
        "  print(\"the sum is \",a+b)\n",
        "sum(78,77)\n",
        "sum(99,1)\n",
        "\n"
      ]
    },
    {
      "cell_type": "code",
      "execution_count": null,
      "metadata": {
        "colab": {
          "base_uri": "https://localhost:8080/",
          "height": 332
        },
        "id": "lLsZR2movtGP",
        "outputId": "7a44e6af-b13b-42db-96dc-559882f8c83d"
      },
      "outputs": [
        {
          "ename": "TypeError",
          "evalue": "sum() missing 1 required positional argument: 'b'",
          "output_type": "error",
          "traceback": [
            "\u001b[0;31m---------------------------------------------------------------------------\u001b[0m",
            "\u001b[0;31mTypeError\u001b[0m                                 Traceback (most recent call last)",
            "\u001b[0;32m<ipython-input-40-bc9e11d69cd3>\u001b[0m in \u001b[0;36m<cell line: 4>\u001b[0;34m()\u001b[0m\n\u001b[1;32m      2\u001b[0m \u001b[0;34m\u001b[0m\u001b[0m\n\u001b[1;32m      3\u001b[0m   \u001b[0;32mreturn\u001b[0m \u001b[0msum\u001b[0m\u001b[0;34m(\u001b[0m\u001b[0mnum\u001b[0m\u001b[0;34m)\u001b[0m\u001b[0;34m\u001b[0m\u001b[0;34m\u001b[0m\u001b[0m\n\u001b[0;32m----> 4\u001b[0;31m \u001b[0mprint\u001b[0m\u001b[0;34m(\u001b[0m\u001b[0msum1\u001b[0m\u001b[0;34m(\u001b[0m\u001b[0;36m6796\u001b[0m\u001b[0;34m,\u001b[0m\u001b[0;36m48\u001b[0m\u001b[0;34m,\u001b[0m\u001b[0;36m25\u001b[0m\u001b[0;34m,\u001b[0m\u001b[0;36m65\u001b[0m\u001b[0;34m)\u001b[0m\u001b[0;34m)\u001b[0m\u001b[0;34m\u001b[0m\u001b[0;34m\u001b[0m\u001b[0m\n\u001b[0m\u001b[1;32m      5\u001b[0m \u001b[0;34m\u001b[0m\u001b[0m\n",
            "\u001b[0;32m<ipython-input-40-bc9e11d69cd3>\u001b[0m in \u001b[0;36msum1\u001b[0;34m(*num)\u001b[0m\n\u001b[1;32m      1\u001b[0m \u001b[0;32mdef\u001b[0m \u001b[0msum1\u001b[0m\u001b[0;34m(\u001b[0m\u001b[0;34m*\u001b[0m\u001b[0mnum\u001b[0m\u001b[0;34m)\u001b[0m\u001b[0;34m:\u001b[0m\u001b[0;31m#variable length argument : used when we not know how many argument are ther to pass\u001b[0m\u001b[0;34m\u001b[0m\u001b[0;34m\u001b[0m\u001b[0m\n\u001b[1;32m      2\u001b[0m \u001b[0;34m\u001b[0m\u001b[0m\n\u001b[0;32m----> 3\u001b[0;31m   \u001b[0;32mreturn\u001b[0m \u001b[0msum\u001b[0m\u001b[0;34m(\u001b[0m\u001b[0mnum\u001b[0m\u001b[0;34m)\u001b[0m\u001b[0;34m\u001b[0m\u001b[0;34m\u001b[0m\u001b[0m\n\u001b[0m\u001b[1;32m      4\u001b[0m \u001b[0mprint\u001b[0m\u001b[0;34m(\u001b[0m\u001b[0msum1\u001b[0m\u001b[0;34m(\u001b[0m\u001b[0;36m6796\u001b[0m\u001b[0;34m,\u001b[0m\u001b[0;36m48\u001b[0m\u001b[0;34m,\u001b[0m\u001b[0;36m25\u001b[0m\u001b[0;34m,\u001b[0m\u001b[0;36m65\u001b[0m\u001b[0;34m)\u001b[0m\u001b[0;34m)\u001b[0m\u001b[0;34m\u001b[0m\u001b[0;34m\u001b[0m\u001b[0m\n\u001b[1;32m      5\u001b[0m \u001b[0;34m\u001b[0m\u001b[0m\n",
            "\u001b[0;31mTypeError\u001b[0m: sum() missing 1 required positional argument: 'b'"
          ]
        }
      ],
      "source": [
        "def sum1(*num):#variable length argument : used when we not know how many argument are ther to pass\n",
        "\n",
        "  return sum(num)\n",
        "print(sum1(6796,48,25,65))\n"
      ]
    },
    {
      "cell_type": "code",
      "execution_count": null,
      "metadata": {
        "colab": {
          "base_uri": "https://localhost:8080/"
        },
        "id": "J2-tyPfvz2Z3",
        "outputId": "4348e8e2-c672-4d51-e2fb-c3393b46ac07"
      },
      "outputs": [
        {
          "name": "stdout",
          "output_type": "stream",
          "text": [
            "product is  26448\n"
          ]
        }
      ],
      "source": [
        "def product(a,b): print(\"product is \",a*b)\n",
        "product(456,58)"
      ]
    },
    {
      "cell_type": "code",
      "execution_count": null,
      "metadata": {
        "colab": {
          "base_uri": "https://localhost:8080/",
          "height": 36
        },
        "id": "M1yDXvj41hS7",
        "outputId": "d842c00f-40b3-4305-8529-73edca89fc3e"
      },
      "outputs": [
        {
          "data": {
            "application/vnd.google.colaboratory.intrinsic+json": {
              "type": "string"
            },
            "text/plain": [
              "' hey ajay have a good day'"
            ]
          },
          "execution_count": 42,
          "metadata": {},
          "output_type": "execute_result"
        }
      ],
      "source": [
        "def greet(*name):\n",
        "  if not(name):\n",
        "    return  \"hey guest , have a good day\"\n",
        "  else:\n",
        "    return \" hey \"+ \" and \".join(name)+\" have a good day\"\n",
        "greet((\"ajay\"))"
      ]
    },
    {
      "cell_type": "code",
      "execution_count": null,
      "metadata": {
        "colab": {
          "base_uri": "https://localhost:8080/",
          "height": 280
        },
        "id": "aSU6pxRd17Os",
        "outputId": "e77c14f2-93d7-4bea-90fc-15dda2472328"
      },
      "outputs": [
        {
          "ename": "TypeError",
          "evalue": "sum() missing 1 required positional argument: 'b'",
          "output_type": "error",
          "traceback": [
            "\u001b[0;31m---------------------------------------------------------------------------\u001b[0m",
            "\u001b[0;31mTypeError\u001b[0m                                 Traceback (most recent call last)",
            "\u001b[0;32m<ipython-input-43-b714b2da6100>\u001b[0m in \u001b[0;36m<cell line: 4>\u001b[0;34m()\u001b[0m\n\u001b[1;32m      2\u001b[0m   \u001b[0maverage\u001b[0m\u001b[0;34m=\u001b[0m\u001b[0msum\u001b[0m\u001b[0;34m(\u001b[0m\u001b[0mnum\u001b[0m\u001b[0;34m)\u001b[0m\u001b[0;34m/\u001b[0m\u001b[0mlen\u001b[0m\u001b[0;34m(\u001b[0m\u001b[0mnum\u001b[0m\u001b[0;34m)\u001b[0m\u001b[0;34m\u001b[0m\u001b[0;34m\u001b[0m\u001b[0m\n\u001b[1;32m      3\u001b[0m   \u001b[0;32mreturn\u001b[0m \u001b[0maverage\u001b[0m\u001b[0;34m\u001b[0m\u001b[0;34m\u001b[0m\u001b[0m\n\u001b[0;32m----> 4\u001b[0;31m \u001b[0;34m(\u001b[0m\u001b[0maverage\u001b[0m\u001b[0;34m(\u001b[0m\u001b[0;36m5\u001b[0m\u001b[0;34m,\u001b[0m\u001b[0;36m87\u001b[0m\u001b[0;34m,\u001b[0m\u001b[0;36m10\u001b[0m\u001b[0;34m)\u001b[0m\u001b[0;34m)\u001b[0m\u001b[0;34m\u001b[0m\u001b[0;34m\u001b[0m\u001b[0m\n\u001b[0m",
            "\u001b[0;32m<ipython-input-43-b714b2da6100>\u001b[0m in \u001b[0;36maverage\u001b[0;34m(*num)\u001b[0m\n\u001b[1;32m      1\u001b[0m \u001b[0;32mdef\u001b[0m \u001b[0maverage\u001b[0m\u001b[0;34m(\u001b[0m\u001b[0;34m*\u001b[0m\u001b[0mnum\u001b[0m\u001b[0;34m)\u001b[0m\u001b[0;34m:\u001b[0m\u001b[0;34m\u001b[0m\u001b[0;34m\u001b[0m\u001b[0m\n\u001b[0;32m----> 2\u001b[0;31m   \u001b[0maverage\u001b[0m\u001b[0;34m=\u001b[0m\u001b[0msum\u001b[0m\u001b[0;34m(\u001b[0m\u001b[0mnum\u001b[0m\u001b[0;34m)\u001b[0m\u001b[0;34m/\u001b[0m\u001b[0mlen\u001b[0m\u001b[0;34m(\u001b[0m\u001b[0mnum\u001b[0m\u001b[0;34m)\u001b[0m\u001b[0;34m\u001b[0m\u001b[0;34m\u001b[0m\u001b[0m\n\u001b[0m\u001b[1;32m      3\u001b[0m   \u001b[0;32mreturn\u001b[0m \u001b[0maverage\u001b[0m\u001b[0;34m\u001b[0m\u001b[0;34m\u001b[0m\u001b[0m\n\u001b[1;32m      4\u001b[0m \u001b[0;34m(\u001b[0m\u001b[0maverage\u001b[0m\u001b[0;34m(\u001b[0m\u001b[0;36m5\u001b[0m\u001b[0;34m,\u001b[0m\u001b[0;36m87\u001b[0m\u001b[0;34m,\u001b[0m\u001b[0;36m10\u001b[0m\u001b[0;34m)\u001b[0m\u001b[0;34m)\u001b[0m\u001b[0;34m\u001b[0m\u001b[0;34m\u001b[0m\u001b[0m\n",
            "\u001b[0;31mTypeError\u001b[0m: sum() missing 1 required positional argument: 'b'"
          ]
        }
      ],
      "source": [
        "def average(*num):\n",
        "  average=sum(num)/len(num)\n",
        "  return average\n",
        "(average(5,87,10))\n"
      ]
    },
    {
      "cell_type": "code",
      "execution_count": null,
      "metadata": {
        "id": "iRLREJY2DJBv"
      },
      "outputs": [],
      "source": [
        "def factorial(num):\n",
        "  if num ==0:\n",
        "    return 1\n",
        "  else:\n",
        "    return num*factorial(num-1)\n",
        "print(factorial(5))"
      ]
    },
    {
      "cell_type": "code",
      "execution_count": null,
      "metadata": {
        "id": "InPnppa9FR4C"
      },
      "outputs": [],
      "source": [
        "def factorial(num):\n",
        "  factorial=1\n",
        "\n",
        "  for i in range(1,num+1):\n",
        "    factorial=factorial*i\n",
        "    return factorial\n",
        "print(factorial(5))"
      ]
    },
    {
      "cell_type": "markdown",
      "metadata": {
        "id": "KoQ0NMIGxEjX"
      },
      "source": [
        "## **Recursion**"
      ]
    },
    {
      "cell_type": "code",
      "execution_count": null,
      "metadata": {
        "id": "V8dHyvxExLHt"
      },
      "outputs": [],
      "source": []
    },
    {
      "cell_type": "markdown",
      "metadata": {
        "id": "OJBj7dtuK5RS"
      },
      "source": [
        "## **Control flow statements**"
      ]
    },
    {
      "cell_type": "code",
      "execution_count": null,
      "metadata": {
        "colab": {
          "base_uri": "https://localhost:8080/"
        },
        "id": "huvcgnCWGjjt",
        "outputId": "f6d900cd-b21b-4ad5-9e01-17eda1332f7c"
      },
      "outputs": [
        {
          "name": "stdout",
          "output_type": "stream",
          "text": [
            "1\n",
            "2\n",
            "3\n",
            "4\n",
            "5\n",
            "6\n",
            "7\n"
          ]
        }
      ],
      "source": [
        "for i in range(1,11):\n",
        "\n",
        "  print(i)\n",
        "  if i==7:\n",
        "    break"
      ]
    },
    {
      "cell_type": "code",
      "execution_count": null,
      "metadata": {
        "colab": {
          "base_uri": "https://localhost:8080/"
        },
        "id": "5rb8ghF8AoSv",
        "outputId": "89fa949b-7eaf-44e6-ec5e-42a35f34e288"
      },
      "outputs": [
        {
          "name": "stdout",
          "output_type": "stream",
          "text": [
            "1\n",
            "2\n",
            "4\n",
            "5\n",
            "7\n",
            "8\n",
            "10\n"
          ]
        }
      ],
      "source": [
        "for i in range(1,11):\n",
        "  if i%3!=0:\n",
        "    print(i)\n",
        "    continue"
      ]
    },
    {
      "cell_type": "code",
      "execution_count": null,
      "metadata": {
        "colab": {
          "base_uri": "https://localhost:8080/"
        },
        "id": "GBg-qLejbza5",
        "outputId": "c662c4b3-f5eb-4ab0-ad3f-9a89d144a114"
      },
      "outputs": [
        {
          "name": "stdout",
          "output_type": "stream",
          "text": [
            "Skipping even number: 0\n",
            "Odd number: 1\n",
            "Skipping even number: 2\n",
            "Odd number: 3\n",
            "Skipping even number: 4\n",
            "Break at 5\n"
          ]
        }
      ],
      "source": [
        "for i in range(10):\n",
        "    if i == 5:\n",
        "        # This is an example of 'break'\n",
        "        print(\"Break at\", i)\n",
        "        break\n",
        "    elif i % 2 == 0:\n",
        "        # This is an example of 'continue'\n",
        "        print(\"Skipping even number:\", i)\n",
        "        continue\n",
        "    else:\n",
        "        # For odd numbers other than 5\n",
        "        print(\"Odd number:\", i)\n"
      ]
    },
    {
      "cell_type": "code",
      "execution_count": null,
      "metadata": {
        "colab": {
          "background_save": true,
          "base_uri": "https://localhost:8080/",
          "height": 106
        },
        "id": "VaudjnhXzXYO",
        "outputId": "fadd178c-72f1-43cc-847f-98644aea32c1"
      },
      "outputs": [
        {
          "ename": "SyntaxError",
          "evalue": "cannot assign to expression here. Maybe you meant '==' instead of '='? (<ipython-input-4-c1b8fbb09541>, line 3)",
          "output_type": "error",
          "traceback": [
            "\u001b[0;36m  File \u001b[0;32m\"<ipython-input-4-c1b8fbb09541>\"\u001b[0;36m, line \u001b[0;32m3\u001b[0m\n\u001b[0;31m    if(i%5=0):\u001b[0m\n\u001b[0m       ^\u001b[0m\n\u001b[0;31mSyntaxError\u001b[0m\u001b[0;31m:\u001b[0m cannot assign to expression here. Maybe you meant '==' instead of '='?\n"
          ]
        }
      ],
      "source": [
        "i=1\n",
        "for i in range(1,21):\n",
        "  if(i%5=0):\n",
        "  print(\"divisible by 5\")\n",
        "  break"
      ]
    },
    {
      "cell_type": "code",
      "execution_count": null,
      "metadata": {
        "colab": {
          "base_uri": "https://localhost:8080/"
        },
        "id": "8xwazSNsB6t_",
        "outputId": "df85ede2-4e76-4f78-b1ef-80c52853bd93"
      },
      "outputs": [
        {
          "name": "stdout",
          "output_type": "stream",
          "text": [
            "1\n",
            "3\n",
            "5\n",
            "7\n",
            "9\n"
          ]
        }
      ],
      "source": [
        "i=1\n",
        "\n",
        "while i<11:\n",
        "\n",
        "  if i%2==0:\n",
        "    pass\n",
        "  else:\n",
        "    print(i)\n",
        "  i=i+1"
      ]
    },
    {
      "cell_type": "code",
      "execution_count": null,
      "metadata": {
        "colab": {
          "base_uri": "https://localhost:8080/"
        },
        "id": "hzI-i9RRC34j",
        "outputId": "840314c2-cf3c-415a-c148-643922172b6b"
      },
      "outputs": [
        {
          "name": "stdout",
          "output_type": "stream",
          "text": [
            "1\n",
            "3\n",
            "5\n",
            "7\n",
            "9\n",
            "11\n",
            "13\n"
          ]
        }
      ],
      "source": [
        "for i in range(1,21):\n",
        "  if i%2==0:\n",
        "    continue\n",
        "  elif i==15:\n",
        "    break\n",
        "  else:\n",
        "    print(i)\n",
        "else  :\n",
        "    print(\"Loop completed successfully\")"
      ]
    },
    {
      "cell_type": "markdown",
      "metadata": {
        "id": "rosXQbZuKahM"
      },
      "source": [
        "## **Strings**\n",
        "\n"
      ]
    },
    {
      "cell_type": "code",
      "execution_count": null,
      "metadata": {
        "colab": {
          "base_uri": "https://localhost:8080/"
        },
        "id": "GPtmF5emVAu4",
        "outputId": "01021190-0ec4-4cdd-ce2a-7841626b7762"
      },
      "outputs": [
        {
          "name": "stdout",
          "output_type": "stream",
          "text": [
            "enter the string :Jasmine\n",
            "Jasmin\n",
            "amn\n"
          ]
        }
      ],
      "source": [
        "string=input(\"enter the string :\")\n",
        "print(string[:len(string)-1])\n",
        "print(string[1::2])"
      ]
    },
    {
      "cell_type": "code",
      "execution_count": null,
      "metadata": {
        "colab": {
          "base_uri": "https://localhost:8080/"
        },
        "id": "IN_iVHNEDHPr",
        "outputId": "37350c6a-ab83-4c2d-bf8c-76c10cc21835"
      },
      "outputs": [
        {
          "name": "stdout",
          "output_type": "stream",
          "text": [
            "enter the string :hello\n",
            "olleh\n"
          ]
        }
      ],
      "source": [
        "#To reverse a given string\n",
        "string=input(\"enter the string :\")\n",
        "print(string[::-1])"
      ]
    },
    {
      "cell_type": "code",
      "execution_count": null,
      "metadata": {
        "colab": {
          "base_uri": "https://localhost:8080/"
        },
        "id": "qZkd4-mnWeoX",
        "outputId": "3a0819fd-2d07-4a1b-bf0f-c99ef27e84d1"
      },
      "outputs": [
        {
          "name": "stdout",
          "output_type": "stream",
          "text": [
            "enter str: programming\n",
            "enter char to counte\n",
            "the count of the char e is :  0\n"
          ]
        }
      ],
      "source": [
        "#to find the occurence of a character\n",
        "str=input((\"enter str: \"))\n",
        "to_count=input((\"enter char to count\"))\n",
        "count=str.count(to_count)\n",
        "print(\"the count of the char\",to_count ,\"is : \",count)\n"
      ]
    },
    {
      "cell_type": "code",
      "execution_count": null,
      "metadata": {
        "colab": {
          "base_uri": "https://localhost:8080/"
        },
        "id": "EaA-otWIUBbQ",
        "outputId": "ac69ca04-8352-4447-fada-0548a80bbba7"
      },
      "outputs": [
        {
          "name": "stdout",
          "output_type": "stream",
          "text": [
            "enter str : madam\n",
            "palindrome\n"
          ]
        }
      ],
      "source": [
        "#To check for palindrome\n",
        "str=input(\"enter str : \")\n",
        "reverse=str[::-1]\n",
        "\n",
        "if str==reverse:\n",
        "  print(\"palindrome\")\n",
        "else:\n",
        "  print(\"not palindrome\")\n",
        "\n"
      ]
    },
    {
      "cell_type": "code",
      "execution_count": null,
      "metadata": {
        "id": "cuIzweQVapU0"
      },
      "outputs": [],
      "source": []
    },
    {
      "cell_type": "code",
      "execution_count": null,
      "metadata": {
        "colab": {
          "base_uri": "https://localhost:8080/"
        },
        "id": "ImeBkGBCb5XD",
        "outputId": "26530da0-047f-4b63-fb01-9531aed614c7"
      },
      "outputs": [
        {
          "name": "stdout",
          "output_type": "stream",
          "text": [
            "enter str:rahagir\n",
            "rhgr\n"
          ]
        }
      ],
      "source": [
        "#to remove all the vomels from a string\n",
        "str=input(\"enter str:\")\n",
        "new=str.replace(\"a\",\"\").replace(\"e\",\"\").replace(\"i\",\"\").replace(\"o\",\"\").replace(\"u\",\"\")\n",
        "print(new)"
      ]
    },
    {
      "cell_type": "code",
      "execution_count": null,
      "metadata": {
        "colab": {
          "base_uri": "https://localhost:8080/"
        },
        "id": "sTmtKB1-lOf5",
        "outputId": "ab8f84f2-cd9a-4d1a-e4a9-6d30b4bb31e2"
      },
      "outputs": [
        {
          "name": "stdout",
          "output_type": "stream",
          "text": [
            "enter str:help\n",
            "4\n"
          ]
        }
      ],
      "source": [
        "#calculating the length of the string withot using len()\n",
        "str=input(\"enter str:\")\n",
        "for i , val in enumerate(str):\n",
        "  i,val\n",
        "len=i+1\n",
        "print(len)"
      ]
    },
    {
      "cell_type": "code",
      "execution_count": null,
      "metadata": {
        "colab": {
          "base_uri": "https://localhost:8080/"
        },
        "id": "FdDxkURVl9XA",
        "outputId": "6bc517d6-9b08-4e89-f8f3-c62058f29b32"
      },
      "outputs": [
        {
          "name": "stdout",
          "output_type": "stream",
          "text": [
            "enter str:hey guys , hope u r fine\n",
            "['hey', 'guys', ',', 'hope', 'u', 'r', 'fine']\n"
          ]
        }
      ],
      "source": [
        "#string to list\n",
        "str=input(\"enter str:\")\n",
        "list=str.split()\n",
        "print(list)"
      ]
    },
    {
      "cell_type": "code",
      "execution_count": null,
      "metadata": {
        "colab": {
          "base_uri": "https://localhost:8080/"
        },
        "id": "zn2XPZg6n8Td",
        "outputId": "0a295334-d6af-4360-9d0e-852017144ef9"
      },
      "outputs": [
        {
          "name": "stdout",
          "output_type": "stream",
          "text": [
            "enter str: hy\n",
            "enter str: bro\n",
            "hy bro\n"
          ]
        }
      ],
      "source": [
        "#concatinating 2 str without + operator\n",
        "str1=input(\"enter str: \")\n",
        "str2=input(\"enter str: \")\n",
        "new=\" \".join([str1, str2])\n",
        "print(new)"
      ]
    },
    {
      "cell_type": "code",
      "execution_count": null,
      "metadata": {
        "id": "jdq6jFWEoc_d"
      },
      "outputs": [],
      "source": []
    },
    {
      "cell_type": "markdown",
      "metadata": {
        "id": "yjx29Ek7Hh9j"
      },
      "source": [
        "## **Dictionary**\n"
      ]
    },
    {
      "cell_type": "code",
      "execution_count": null,
      "metadata": {
        "colab": {
          "base_uri": "https://localhost:8080/"
        },
        "id": "4fFXa21LH3yu",
        "outputId": "ee2e29ca-9026-4fe8-cf37-b8816f469b0c"
      },
      "outputs": [
        {
          "name": "stdout",
          "output_type": "stream",
          "text": [
            "{1: 'name', 2: 'two', 3: 'three'}\n"
          ]
        }
      ],
      "source": [
        "my_dict={1:\"name\",2:\"two\",3:\"three\"}\n",
        "print(my_dict)"
      ]
    },
    {
      "cell_type": "code",
      "execution_count": null,
      "metadata": {
        "colab": {
          "base_uri": "https://localhost:8080/"
        },
        "id": "9yFRhPXgJcdR",
        "outputId": "52e31c53-fa25-4611-edf7-23e62aefacc0"
      },
      "outputs": [
        {
          "name": "stdout",
          "output_type": "stream",
          "text": [
            "{'one': 'name', 'two': 'hlep', 'three': 'three'}\n",
            "hlep\n",
            "hlep\n"
          ]
        }
      ],
      "source": [
        "my_dict=dict(one=\"name\",two=\"hlep\",three=\"three\")\n",
        "#dict() fn take only strings as key\n",
        "print(my_dict)\n",
        "#accesing the value associated with two\n",
        "\n",
        "print(my_dict[\"two\"])\n",
        "#alternate using get() fn\n",
        "print(my_dict.get(\"two\"))"
      ]
    },
    {
      "cell_type": "code",
      "execution_count": null,
      "metadata": {
        "colab": {
          "base_uri": "https://localhost:8080/"
        },
        "id": "-q6XvY8jMboS",
        "outputId": "b7ed137c-fdc3-45d6-e982-582c677bd9af"
      },
      "outputs": [
        {
          "name": "stdout",
          "output_type": "stream",
          "text": [
            "{'name': 'arzo', 'age': 19, 'place': 'mumbai'}\n",
            "\n",
            "\n",
            "the value for the corresponding key name is arzo\n",
            "the value for the corresponding key age is 19\n",
            "the value for the corresponding key place is mumbai\n",
            "{'name': 'arzo', 'age': 20, 'place': 'mumbai'}\n",
            "{'name': 'arzo', 'age': 20, 'place': 'mumbai', 'hobby': 'coding'}\n",
            "{'name': 'arzo', 'age': 20, 'place': 'mumbai'}\n",
            "{'name': 'arzo', 'age': 20, 'place': 'mumbai', 'dance': 'Hip Hop'}\n",
            "{'name': 'arzo', 'age': 20, 'place': 'mumbai'}\n"
          ]
        }
      ],
      "source": [
        "dictionary=dict(name=\"arzo\",age=19,place=\"mumbai\")\n",
        "print(dictionary)\n",
        "dictionary.get(\"name\\n\")\n",
        "print(\"\\n\")\n",
        "dictionary.items()\n",
        "dictionary.keys()\n",
        "dictionary.values()\n",
        "len(dictionary)\n",
        "for key,value in dictionary.items():\n",
        "  print(f\"the value for the corresponding key {key} is {value}\")\n",
        "dictionary[\"age\"]=20\n",
        "print(dictionary)\n",
        "dictionary[\"hobby\"]=\"coding\"\n",
        "print(dictionary)\n",
        "dictionary.pop(\"hobby\")\n",
        "print(dictionary)\n",
        "dictionary[\"dance\"]=\"Hip Hop\"\n",
        "print(dictionary)\n",
        "del dictionary[\"dance\"]\n",
        "print(dictionary)\n"
      ]
    },
    {
      "cell_type": "code",
      "execution_count": null,
      "metadata": {
        "colab": {
          "base_uri": "https://localhost:8080/"
        },
        "id": "Q7nde1kOFrOC",
        "outputId": "7be6cf14-70e6-4081-fd76-1a1708866a04"
      },
      "outputs": [
        {
          "name": "stdout",
          "output_type": "stream",
          "text": [
            "{'Name': 'Nisha', 'Age': 12, 'Marks': 0}\n"
          ]
        }
      ],
      "source": [
        "N=dict(Name=\"Nisha\"),Age=12,Marks=00)\n",
        "print(N)"
      ]
    },
    {
      "cell_type": "code",
      "execution_count": null,
      "metadata": {
        "id": "c87_16LWLxn8"
      },
      "outputs": [],
      "source": []
    }
  ],
  "metadata": {
    "colab": {
      "provenance": []
    },
    "kernelspec": {
      "display_name": "Python 3",
      "name": "python3"
    },
    "language_info": {
      "name": "python"
    }
  },
  "nbformat": 4,
  "nbformat_minor": 0
}